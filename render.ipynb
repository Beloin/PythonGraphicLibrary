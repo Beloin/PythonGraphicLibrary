{
 "cells": [
  {
   "cell_type": "code",
   "execution_count": 1,
   "id": "initial_id",
   "metadata": {
    "collapsed": true,
    "ExecuteTime": {
     "end_time": "2023-10-28T19:46:37.276604545Z",
     "start_time": "2023-10-28T19:46:36.974048433Z"
    }
   },
   "outputs": [],
   "source": [
    "from PIL import Image\n",
    "import numpy as np\n",
    "from raster import *"
   ]
  },
  {
   "cell_type": "code",
   "execution_count": 8,
   "outputs": [
    {
     "name": "stdout",
     "output_type": "stream",
     "text": [
      "(100, 100)\n"
     ]
    },
    {
     "data": {
      "text/plain": "<PIL.Image.Image image mode=L size=100x100>",
      "image/png": "[encoded data removed]",
      "image/jpeg": "[encoded data removed]"
     },
     "execution_count": 8,
     "metadata": {},
     "output_type": "execute_result"
    }
   ],
   "source": [
    "scale = (100, 100)\n",
    "norm_vec: Vector = (0, 0), (.8, .8)\n",
    "mx = [[0 for _ in range(scale[0])] for _ in range(scale[1])]\n",
    "points = raster(norm_vec, scale)\n",
    "insert_points(mx, points)\n",
    "mx = convert_img(mx)\n",
    "\n",
    "img: np.array = np.asarray(mx)\n",
    "# img = np.flip(img, 0)\n",
    "img = (img * 255).astype(np.uint8)\n",
    "\n",
    "print(img.shape)\n",
    "Image.fromarray(img, 'L')"
   ],
   "metadata": {
    "collapsed": false,
    "ExecuteTime": {
     "end_time": "2023-10-28T19:52:27.462482776Z",
     "start_time": "2023-10-28T19:52:27.452987828Z"
    }
   },
   "id": "2d1085cd17dce84b"
  }
 ],
 "metadata": {
  "kernelspec": {
   "display_name": "Python 3",
   "language": "python",
   "name": "python3"
  },
  "language_info": {
   "codemirror_mode": {
    "name": "ipython",
    "version": 2
   },
   "file_extension": ".py",
   "mimetype": "text/x-python",
   "name": "python",
   "nbconvert_exporter": "python",
   "pygments_lexer": "ipython2",
   "version": "2.7.6"
  }
 },
 "nbformat": 4,
 "nbformat_minor": 5
}
