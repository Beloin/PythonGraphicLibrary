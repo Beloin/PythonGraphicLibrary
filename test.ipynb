{
 "cells": [
  {
   "cell_type": "code",
   "execution_count": 11,
   "id": "initial_id",
   "metadata": {
    "collapsed": true,
    "ExecuteTime": {
     "end_time": "2023-09-02T18:40:53.856483526Z",
     "start_time": "2023-09-02T18:40:53.806361833Z"
    }
   },
   "outputs": [],
   "source": [
    "from raster import *\n",
    "import math\n",
    "import matplotlib.pyplot as plt\n",
    "import numpy as np\n",
    "from PIL import Image"
   ]
  },
  {
   "cell_type": "code",
   "execution_count": 25,
   "outputs": [
    {
     "data": {
      "text/plain": "<matplotlib.image.AxesImage at 0x7fd4797c0790>"
     },
     "execution_count": 25,
     "metadata": {},
     "output_type": "execute_result"
    },
    {
     "data": {
      "text/plain": "<Figure size 640x480 with 1 Axes>",
      "image/png": "[encoded data removed]"
     },
     "metadata": {},
     "output_type": "display_data"
    }
   ],
   "source": [
    "scale = 100\n",
    "scale_y = 200\n",
    "norm_vec: Vector = (.2, .3), (.8, .7)\n",
    "mx = [[0 for _ in range(scale)] for _ in range(scale_y)]\n",
    "points = raster(norm_vec, (0, scale), (0, scale_y))\n",
    "\n",
    "for x, y in points:\n",
    "    x = math.floor(x)\n",
    "    y = math.floor(y)\n",
    "    mx[y][x] = 1\n",
    "\n",
    "plt.imshow(mx)"
   ],
   "metadata": {
    "collapsed": false,
    "ExecuteTime": {
     "end_time": "2023-09-02T18:47:12.375806255Z",
     "start_time": "2023-09-02T18:47:12.243543035Z"
    }
   },
   "id": "dd7946c1e897a259"
  },
  {
   "cell_type": "code",
   "execution_count": null,
   "outputs": [],
   "source": [],
   "metadata": {
    "collapsed": false
   },
   "id": "4e2bc3bd5ac9eb5e"
  }
 ],
 "metadata": {
  "kernelspec": {
   "display_name": "Python 3",
   "language": "python",
   "name": "python3"
  },
  "language_info": {
   "codemirror_mode": {
    "name": "ipython",
    "version": 2
   },
   "file_extension": ".py",
   "mimetype": "text/x-python",
   "name": "python",
   "nbconvert_exporter": "python",
   "pygments_lexer": "ipython2",
   "version": "2.7.6"
  }
 },
 "nbformat": 4,
 "nbformat_minor": 5
}
