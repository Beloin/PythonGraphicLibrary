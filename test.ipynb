{
 "cells": [
  {
   "cell_type": "code",
   "execution_count": 1,
   "id": "initial_id",
   "metadata": {
    "collapsed": true,
    "ExecuteTime": {
     "end_time": "2023-09-02T19:33:26.686512478Z",
     "start_time": "2023-09-02T19:33:26.366261446Z"
    }
   },
   "outputs": [],
   "source": [
    "from raster import *\n",
    "import math\n",
    "import matplotlib.pyplot as plt\n",
    "import numpy as np\n",
    "from PIL import Image"
   ]
  },
  {
   "cell_type": "code",
   "execution_count": 3,
   "outputs": [
    {
     "data": {
      "text/plain": "<matplotlib.image.AxesImage at 0x7f7bc00606d0>"
     },
     "execution_count": 3,
     "metadata": {},
     "output_type": "execute_result"
    },
    {
     "data": {
      "text/plain": "<Figure size 640x480 with 1 Axes>",
      "image/png": "[encoded data removed]"
     },
     "metadata": {},
     "output_type": "display_data"
    }
   ],
   "source": [
    "scale = 100\n",
    "scale_y = 1000\n",
    "norm_vec: Vector = (.2, .3), (.8, .7)\n",
    "mx = [[0 for _ in range(scale)] for _ in range(scale_y)]\n",
    "points = raster(norm_vec, (scale, scale_y))\n",
    "\n",
    "for x, y in points:\n",
    "    x = math.floor(x)\n",
    "    y = math.floor(y)\n",
    "    mx[y][x] = 1\n",
    "\n",
    "plt.imshow(mx, interpolation='nearest')"
   ],
   "metadata": {
    "collapsed": false,
    "ExecuteTime": {
     "end_time": "2023-09-02T19:33:33.872426992Z",
     "start_time": "2023-09-02T19:33:33.794378739Z"
    }
   },
   "id": "dd7946c1e897a259"
  },
  {
   "cell_type": "code",
   "execution_count": null,
   "outputs": [],
   "source": [],
   "metadata": {
    "collapsed": false
   },
   "id": "4e2bc3bd5ac9eb5e"
  }
 ],
 "metadata": {
  "kernelspec": {
   "display_name": "Python 3",
   "language": "python",
   "name": "python3"
  },
  "language_info": {
   "codemirror_mode": {
    "name": "ipython",
    "version": 2
   },
   "file_extension": ".py",
   "mimetype": "text/x-python",
   "name": "python",
   "nbconvert_exporter": "python",
   "pygments_lexer": "ipython2",
   "version": "2.7.6"
  }
 },
 "nbformat": 4,
 "nbformat_minor": 5
}
