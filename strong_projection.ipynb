{
 "cells": [
  {
   "cell_type": "code",
   "execution_count": 1,
   "id": "initial_id",
   "metadata": {
    "collapsed": true,
    "ExecuteTime": {
     "end_time": "2023-12-08T02:10:45.054257737Z",
     "start_time": "2023-12-08T02:10:44.631099502Z"
    }
   },
   "outputs": [],
   "source": [
    "import camera_persp.persp as persp\n",
    "from raster import *\n",
    "\n",
    "import wireframe\n",
    "import matplotlib.pyplot as plt\n",
    "from mpl_toolkits.mplot3d import Axes3D\n",
    "from mpl_toolkits.mplot3d.art3d import Poly3DCollection\n",
    "\n",
    "import transformation\n",
    "import camera_persp.camera as cam"
   ]
  },
  {
   "cell_type": "code",
   "execution_count": 2,
   "outputs": [
    {
     "name": "stdout",
     "output_type": "stream",
     "text": [
      "(10, 0, 10)\n"
     ]
    }
   ],
   "source": [
    "# Setup Camera\n",
    "at = (0, 0, 0)\n",
    "eye = (10, 0, 10)\n",
    "\n",
    "# eye = transformation.rotate(eye, (1, 1, 1))\n",
    "print(eye)\n",
    "camera = cam.get_camera(at, eye)\n",
    "\n",
    "edges = wireframe.cube(.5, res=.1)\n",
    "\n",
    "edges = transformation.scale_interval(edges, (0, 20))  # Camera is between 0 and 20\n",
    "edges = cam.edges_to_camera(edges, camera, eye)\n",
    "edges = transformation.scale_interval(edges, (-1, 1), (0, 20))  # The raster representation is between -1 and 1\n",
    "\n",
    "# Trans\n",
    "# edges = transformation.rotate_edges(edges, (0, 0, 0))\n",
    "# edges = transformation.translate_edges(edges, (0, 0, 0))\n",
    "# edges = transformation.scale_edges(edges, (1, 1, 1))"
   ],
   "metadata": {
    "collapsed": false,
    "ExecuteTime": {
     "end_time": "2023-12-08T02:10:45.055100699Z",
     "start_time": "2023-12-08T02:10:45.050524668Z"
    }
   },
   "id": "c115bc1bce4818b6"
  },
  {
   "cell_type": "code",
   "execution_count": 3,
   "outputs": [
    {
     "name": "stdout",
     "output_type": "stream",
     "text": [
      "Shape: 28 2\n"
     ]
    },
    {
     "data": {
      "text/plain": "<Figure size 640x480 with 1 Axes>",
      "image/png": "[encoded data removed]"
     },
     "metadata": {},
     "output_type": "display_data"
    }
   ],
   "source": [
    "scale_x, scale_y = (500, 500)\n",
    "scale = (scale_x, scale_y)\n",
    "\n",
    "new_edges = persp.perspective_edges(edges, eye, scale)\n",
    "# new_edges = edges\n",
    "print(\"Shape:\", len(new_edges), len(new_edges[0]))\n",
    "\n",
    "mx = [[0 for _ in range(scale_x)] for _ in range(scale_y)]\n",
    "pts = draw_edge_list(new_edges, scale)\n",
    "insert_points(mx, pts)\n",
    "\n",
    "plt.imshow(convert_img(mx))\n",
    "plt.show()"
   ],
   "metadata": {
    "collapsed": false,
    "ExecuteTime": {
     "end_time": "2023-12-08T02:10:45.260151961Z",
     "start_time": "2023-12-08T02:10:45.055334809Z"
    }
   },
   "id": "dbaa4f26cd839c07"
  },
  {
   "cell_type": "code",
   "execution_count": 13,
   "outputs": [
    {
     "name": "stdout",
     "output_type": "stream",
     "text": [
      "(10, 0, 10)\n",
      "Shape: 28 2\n"
     ]
    },
    {
     "data": {
      "text/plain": "<Figure size 640x480 with 1 Axes>",
      "image/png": "[encoded data removed]"
     },
     "metadata": {},
     "output_type": "display_data"
    }
   ],
   "source": [
    "# Setup Camera\n",
    "at = (0, 0, 0)\n",
    "eye = (10, 0, 10)\n",
    "\n",
    "# eye = transformation.rotate(eye, (1, 1, 1))\n",
    "print(eye)\n",
    "camera = cam.get_camera(at, eye)\n",
    "\n",
    "edges = wireframe.cube(.5, res=.1)\n",
    "\n",
    "edges = transformation.scale_interval(edges, (0, 20))  # Camera is between 0 and 20\n",
    "edges = cam.edges_to_camera(edges, camera, eye)\n",
    "edges = transformation.scale_interval(edges, (-1, 1), (0, 20))  # The raster representation is between -1 and 1\n",
    "\n",
    "# Trans\n",
    "# edges = transformation.rotate_edges(edges, (0, 0, 0))\n",
    "# edges = transformation.translate_edges(edges, (0, 0, 0))\n",
    "# edges = transformation.scale_edges(edges, (1, 1, 1))\n",
    "\n",
    "scale_x, scale_y = (500, 500)\n",
    "scale = (scale_x, scale_y)\n",
    "\n",
    "new_edges = persp.strongperspective_edges(edges, eye, (1, 1, 1), (100, 100))\n",
    "# new_edges = edges\n",
    "print(\"Shape:\", len(new_edges), len(new_edges[0]))\n",
    "\n",
    "mx = [[0 for _ in range(scale_x)] for _ in range(scale_y)]\n",
    "pts = draw_edge_list(new_edges, scale)\n",
    "insert_points(mx, pts)\n",
    "\n",
    "plt.imshow(convert_img(mx))\n",
    "plt.show()"
   ],
   "metadata": {
    "collapsed": false,
    "ExecuteTime": {
     "end_time": "2023-12-08T02:15:43.085133840Z",
     "start_time": "2023-12-08T02:15:42.703001984Z"
    }
   },
   "id": "ea3ce8e44ac8262b"
  }
 ],
 "metadata": {
  "kernelspec": {
   "display_name": "Python 3",
   "language": "python",
   "name": "python3"
  },
  "language_info": {
   "codemirror_mode": {
    "name": "ipython",
    "version": 2
   },
   "file_extension": ".py",
   "mimetype": "text/x-python",
   "name": "python",
   "nbconvert_exporter": "python",
   "pygments_lexer": "ipython2",
   "version": "2.7.6"
  }
 },
 "nbformat": 4,
 "nbformat_minor": 5
}
