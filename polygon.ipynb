{
 "cells": [
  {
   "cell_type": "code",
   "execution_count": 1,
   "outputs": [],
   "source": [
    "from raster import *\n",
    "import math\n",
    "import matplotlib.pyplot as plt"
   ],
   "metadata": {
    "collapsed": false,
    "ExecuteTime": {
     "end_time": "2023-10-21T23:01:38.898401298Z",
     "start_time": "2023-10-21T23:01:38.470125487Z"
    }
   },
   "id": "9c37e134f1bb0a68"
  },
  {
   "cell_type": "code",
   "execution_count": 7,
   "id": "initial_id",
   "metadata": {
    "collapsed": true,
    "ExecuteTime": {
     "end_time": "2023-10-21T23:05:17.279317490Z",
     "start_time": "2023-10-21T23:05:13.739949623Z"
    }
   },
   "outputs": [
    {
     "data": {
      "text/plain": "<Figure size 640x480 with 1 Axes>",
      "image/png": "[encoded data removed]"
     },
     "metadata": {},
     "output_type": "display_data"
    }
   ],
   "source": [
    "scale_x, scale_y = (1000, 10000)\n",
    "scale = (scale_x, scale_y)\n",
    "\n",
    "#           (.2, .2)\n",
    "#\n",
    "#  (.0, .0)            (.4, .0)\n",
    "triangle  = [(.0, .0), (.2, .2), (.4, .0)]\n",
    "polygon = draw_polygon(triangle, scale)\n",
    "fill_polygon(polygon, scale)\n",
    "\n",
    "#           (.2, .2)\n",
    "#\n",
    "#  (.0, .0)            (.4, .0)\n",
    "triangle  = [(.2, .2), (.4, .4), (.6, .2)]\n",
    "polygon2 = draw_polygon(triangle, scale)\n",
    "fill_polygon(polygon2, scale)\n",
    "\n",
    "mx = [[0 for _ in range(scale_x)] for _ in range(scale_y)]\n",
    "insert_points(mx, polygon)\n",
    "insert_points(mx, polygon2)\n",
    "\n",
    "plt.imshow(convert_img(mx), interpolation='nearest')\n",
    "plt.show() "
   ]
  },
  {
   "cell_type": "code",
   "execution_count": 2,
   "outputs": [],
   "source": [],
   "metadata": {
    "collapsed": false,
    "ExecuteTime": {
     "end_time": "2023-10-21T23:01:39.818670750Z",
     "start_time": "2023-10-21T23:01:39.816889911Z"
    }
   },
   "id": "b49433877e70e12a"
  }
 ],
 "metadata": {
  "kernelspec": {
   "display_name": "Python 3",
   "language": "python",
   "name": "python3"
  },
  "language_info": {
   "codemirror_mode": {
    "name": "ipython",
    "version": 2
   },
   "file_extension": ".py",
   "mimetype": "text/x-python",
   "name": "python",
   "nbconvert_exporter": "python",
   "pygments_lexer": "ipython2",
   "version": "2.7.6"
  }
 },
 "nbformat": 4,
 "nbformat_minor": 5
}
